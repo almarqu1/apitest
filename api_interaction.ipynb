{
 "cells": [
  {
   "cell_type": "code",
   "execution_count": 1,
   "metadata": {},
   "outputs": [],
   "source": [
    "import requests\n",
    "import json\n",
    "\n",
    "# Base URL\n",
    "BASE_URL = \"http://127.0.0.1:5000\"\n",
    "API_KEY = \"test-api-key\"  \n",
    "\n",
    "# Headers for authenticated requests\n",
    "headers = {\n",
    "    \"X-API-Key\": API_KEY\n",
    "}\n",
    "\n",
    "# 1. Upload a file\n",
    "def upload_file(file_path):\n",
    "    files = {\n",
    "        'file': open(file_path, 'rb')\n",
    "    }\n",
    "    response = requests.post(f\"{BASE_URL}/upload\", \n",
    "                            headers=headers, \n",
    "                            files=files)\n",
    "    return response.json()\n",
    "\n",
    "# 2. List all files\n",
    "def list_files():\n",
    "    response = requests.get(f\"{BASE_URL}/files\", headers=headers)\n",
    "    return response.json()\n",
    "\n",
    "# 3. Download a file\n",
    "def download_file(filename, save_path):\n",
    "    response = requests.get(f\"{BASE_URL}/download/{filename}\", stream=True)\n",
    "    if response.status_code == 200:\n",
    "        with open(save_path, 'wb') as f:\n",
    "            for chunk in response.iter_content(chunk_size=1024):\n",
    "                f.write(chunk)\n",
    "        return {\"status\": \"success\", \"message\": f\"File saved to {save_path}\"}\n",
    "    return response.json()\n",
    "\n",
    "# 4. Delete a file\n",
    "def delete_file(filename):\n",
    "    response = requests.delete(f\"{BASE_URL}/files/{filename}\", headers=headers)\n",
    "    return response.json()\n",
    "\n"
   ]
  },
  {
   "cell_type": "code",
   "execution_count": 4,
   "metadata": {},
   "outputs": [
    {
     "name": "stdout",
     "output_type": "stream",
     "text": [
      "Upload result: {\n",
      "  \"download_url\": \"/download/59d146be111a45eab84cd28c8b41830f.txt\",\n",
      "  \"filename\": \"59d146be111a45eab84cd28c8b41830f.txt\",\n",
      "  \"message\": \"File uploaded successfully\",\n",
      "  \"original_filename\": \"example.txt\"\n",
      "}\n"
     ]
    }
   ],
   "source": [
    "\n",
    "upload_result = upload_file(\"example.txt\")\n",
    "print(\"Upload result:\", json.dumps(upload_result, indent=2))\n",
    "\n",
    "# If upload successful, get the filename\n",
    "if \"filename\" in upload_result:\n",
    "    filename = upload_result[\"filename\"]"
   ]
  },
  {
   "cell_type": "code",
   "execution_count": null,
   "metadata": {},
   "outputs": [],
   "source": [
    "# List files\n",
    "print(\"\\nFile list:\")\n",
    "files = list_files()\n",
    "print(json.dumps(files, indent=2))"
   ]
  },
  {
   "cell_type": "code",
   "execution_count": null,
   "metadata": {},
   "outputs": [],
   "source": [
    "# Download file\n",
    "print(\"\\nDownloading file...\")\n",
    "download_result = download_file(filename, \"downloaded_example.txt\")\n",
    "print(download_result)"
   ]
  },
  {
   "cell_type": "code",
   "execution_count": null,
   "metadata": {},
   "outputs": [],
   "source": [
    "# Delete the file\n",
    "print(\"\\nDeleting file...\")\n",
    "delete_result = delete_file(filename)\n",
    "print(json.dumps(delete_result, indent=2))"
   ]
  },
  {
   "cell_type": "code",
   "execution_count": null,
   "metadata": {},
   "outputs": [],
   "source": []
  }
 ],
 "metadata": {
  "kernelspec": {
   "display_name": "Python 3",
   "language": "python",
   "name": "python3"
  },
  "language_info": {
   "codemirror_mode": {
    "name": "ipython",
    "version": 3
   },
   "file_extension": ".py",
   "mimetype": "text/x-python",
   "name": "python",
   "nbconvert_exporter": "python",
   "pygments_lexer": "ipython3",
   "version": "3.13.2"
  }
 },
 "nbformat": 4,
 "nbformat_minor": 2
}
